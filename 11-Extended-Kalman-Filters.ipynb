{
 "cells": [
  {
   "cell_type": "markdown",
   "metadata": {},
   "source": [
    "[Table of Contents](./table_of_contents.ipynb)"
   ]
  },
  {
   "cell_type": "markdown",
   "metadata": {},
   "source": [
    "# The Extended Kalman Filter"
   ]
  },
  {
   "cell_type": "code",
   "execution_count": 1,
   "metadata": {},
   "outputs": [],
   "source": [
    "from __future__ import division, print_function\n",
    "%matplotlib inline"
   ]
  },
  {
   "cell_type": "code",
   "execution_count": 2,
   "metadata": {},
   "outputs": [
    {
     "ename": "ModuleNotFoundError",
     "evalue": "No module named 'filterpy'",
     "output_type": "error",
     "traceback": [
      "\u001b[1;31m---------------------------------------------------------------------------\u001b[0m",
      "\u001b[1;31mModuleNotFoundError\u001b[0m                       Traceback (most recent call last)",
      "\u001b[1;32m<ipython-input-2-44ce08f6fafe>\u001b[0m in \u001b[0;36m<module>\u001b[1;34m\u001b[0m\n\u001b[0;32m      1\u001b[0m \u001b[1;31m#format the book\u001b[0m\u001b[1;33m\u001b[0m\u001b[1;33m\u001b[0m\u001b[1;33m\u001b[0m\u001b[0m\n\u001b[1;32m----> 2\u001b[1;33m \u001b[1;32mimport\u001b[0m \u001b[0mbook_format\u001b[0m\u001b[1;33m\u001b[0m\u001b[1;33m\u001b[0m\u001b[0m\n\u001b[0m\u001b[0;32m      3\u001b[0m \u001b[0mbook_format\u001b[0m\u001b[1;33m.\u001b[0m\u001b[0mset_style\u001b[0m\u001b[1;33m(\u001b[0m\u001b[1;33m)\u001b[0m\u001b[1;33m\u001b[0m\u001b[1;33m\u001b[0m\u001b[0m\n",
      "\u001b[1;32m~\\Documents\\Projects\\Kalman-and-Bayesian-Filters-in-Python\\book_format.py\u001b[0m in \u001b[0;36m<module>\u001b[1;34m\u001b[0m\n\u001b[0;32m     57\u001b[0m \u001b[1;31m# called when this module is imported at the top of each book\u001b[0m\u001b[1;33m\u001b[0m\u001b[1;33m\u001b[0m\u001b[1;33m\u001b[0m\u001b[0m\n\u001b[0;32m     58\u001b[0m \u001b[1;31m# chapter so the reader can see that they need to update FilterPy.\u001b[0m\u001b[1;33m\u001b[0m\u001b[1;33m\u001b[0m\u001b[1;33m\u001b[0m\u001b[0m\n\u001b[1;32m---> 59\u001b[1;33m \u001b[0mtest_filterpy_version\u001b[0m\u001b[1;33m(\u001b[0m\u001b[1;33m)\u001b[0m\u001b[1;33m\u001b[0m\u001b[1;33m\u001b[0m\u001b[0m\n\u001b[0m\u001b[0;32m     60\u001b[0m \u001b[1;33m\u001b[0m\u001b[0m\n\u001b[0;32m     61\u001b[0m \u001b[0mpylab\u001b[0m\u001b[1;33m.\u001b[0m\u001b[0mrcParams\u001b[0m\u001b[1;33m[\u001b[0m\u001b[1;34m'figure.max_open_warning'\u001b[0m\u001b[1;33m]\u001b[0m \u001b[1;33m=\u001b[0m \u001b[1;36m50\u001b[0m\u001b[1;33m\u001b[0m\u001b[1;33m\u001b[0m\u001b[0m\n",
      "\u001b[1;32m~\\Documents\\Projects\\Kalman-and-Bayesian-Filters-in-Python\\book_format.py\u001b[0m in \u001b[0;36mtest_filterpy_version\u001b[1;34m()\u001b[0m\n\u001b[0;32m     42\u001b[0m \u001b[1;32mdef\u001b[0m \u001b[0mtest_filterpy_version\u001b[0m\u001b[1;33m(\u001b[0m\u001b[1;33m)\u001b[0m\u001b[1;33m:\u001b[0m\u001b[1;33m\u001b[0m\u001b[1;33m\u001b[0m\u001b[0m\n\u001b[0;32m     43\u001b[0m \u001b[1;33m\u001b[0m\u001b[0m\n\u001b[1;32m---> 44\u001b[1;33m     \u001b[1;32mimport\u001b[0m \u001b[0mfilterpy\u001b[0m\u001b[1;33m\u001b[0m\u001b[1;33m\u001b[0m\u001b[0m\n\u001b[0m\u001b[0;32m     45\u001b[0m     \u001b[1;32mfrom\u001b[0m \u001b[0mdistutils\u001b[0m\u001b[1;33m.\u001b[0m\u001b[0mversion\u001b[0m \u001b[1;32mimport\u001b[0m \u001b[0mLooseVersion\u001b[0m\u001b[1;33m\u001b[0m\u001b[1;33m\u001b[0m\u001b[0m\n\u001b[0;32m     46\u001b[0m \u001b[1;33m\u001b[0m\u001b[0m\n",
      "\u001b[1;31mModuleNotFoundError\u001b[0m: No module named 'filterpy'"
     ]
    }
   ],
   "source": [
    "#format the book\n",
    "import book_format\n",
    "book_format.set_style()"
   ]
  },
  {
   "cell_type": "markdown",
   "metadata": {},
   "source": [
    "We have developed the theory for the linear Kalman filter. Then, in the last two chapters we broached the topic of using Kalman filters for nonlinear problems. In this chapter we will learn the Extended Kalman filter (EKF). The EKF handles nonlinearity by linearizing the system at the point of the current estimate, and then the linear Kalman filter is used to filter this linearized system. It was one of the very first techniques used for nonlinear problems, and it remains the most common technique. \n",
    "\n",
    "The EKF provides significant mathematical challenges to the designer of the filter; this is the most challenging chapter of the book. I do everything I can to avoid the EKF in favor of other techniques that have been developed to filter nonlinear problems. However, the topic is unavoidable; all classic papers and a majority of current papers in the field use the EKF. Even if you do not use the EKF in your own work you will need to be familiar with the topic to be able to read the literature. "
   ]
  },
  {
   "cell_type": "markdown",
   "metadata": {},
   "source": [
    "## Linearizing the Kalman Filter\n",
    "\n",
    "The Kalman filter uses linear equations, so it does not work with nonlinear problems. Problems can be nonlinear in two ways. First, the process model might be nonlinear. An object falling through the atmosphere encounters drag which reduces its acceleration. The drag coefficient varies based on the velocity the object. The resulting behavior is nonlinear - it cannot be modeled with linear equations. Second, the measurements could be nonlinear. For example, a radar gives a range and bearing to a target. We use trigonometry, which is nonlinear, to compute the position of the target.\n",
    "\n",
    "For the linear filter we have these equations for the process and measurement models:\n",
    "\n",
    "$$\\begin{aligned}\\dot{\\mathbf x} &= \\mathbf{Ax} + w_x\\\\\n",
    "\\mathbf z &= \\mathbf{Hx} + w_z\n",
    "\\end{aligned}$$\n",
    "\n",
    "Where $\\mathbf A$ is the systems dynamic matrix. Using the state space methods covered in the **Kalman Filter Math** chapter these equations can be tranformed into \n",
    "$$\\begin{aligned}\\bar{\\mathbf x} &= \\mathbf{Fx} \\\\\n",
    "\\mathbf z &= \\mathbf{Hx}\n",
    "\\end{aligned}$$\n",
    "\n",
    "where $\\mathbf F$ is the *fundamental matrix*. The noise $w_x$ and $w_z$ terms are incorporated into the matrices $\\mathbf R$ and $\\mathbf Q$. This form of the equations allow us to compute the state at step $k$ given a measurement at step $k$ and the state estimate at step $k-1$. In earlier chapters I built your intuition and minimized the math by using problems describable with Newton's equations. We know how to design $\\mathbf F$ based on high school physics.\n",
    "\n",
    "\n",
    "For the nonlinear model the linear expression $\\mathbf{Fx} + \\mathbf{Bu}$ is replaced by a nonlinear function $f(\\mathbf x, \\mathbf u)$, and the linear expression $\\mathbf{Hx}$ is replaced by a nonlinear function $h(\\mathbf x)$:\n",
    "\n",
    "$$\\begin{aligned}\\dot{\\mathbf x} &= f(\\mathbf x, \\mathbf u) + w_x\\\\\n",
    "\\mathbf z &= h(\\mathbf x) + w_z\n",
    "\\end{aligned}$$\n",
    "\n",
    "You might imagine that we could proceed by finding a new set of Kalman filter equations that optimally solve these equations. But if you remember the charts in the **Nonlinear Filtering** chapter you'll recall that passing a Gaussian through a nonlinear function results in a probability distribution that is no longer Gaussian. So this will not work.\n",
    "\n",
    "The EKF does not alter the Kalman filter's linear equations. Instead, it *linearizes* the nonlinear equations at the point of the current estimate, and uses this linearization in the linear Kalman filter. \n",
    "\n",
    "*Linearize* means what it sounds like. We find a line that most closely matches the curve at a defined point. The graph below linearizes the parabola $f(x)=x^2−2x$ at $x=1.5$."
   ]
  },
  {
   "cell_type": "code",
   "execution_count": null,
   "metadata": {},
   "outputs": [],
   "source": [
    "import kf_book.ekf_internal as ekf_internal\n",
    "ekf_internal.show_linearization()"
   ]
  },
  {
   "cell_type": "markdown",
   "metadata": {},
   "source": [
    "If the curve above is the process model, then the dotted lines shows the linearization of that curve for the estimate $x=1.5$.\n",
    "\n",
    "We linearize systems by taking the derivative, which finds the slope of a curve:\n",
    "\n",
    "$$\\begin{aligned}\n",
    "f(x) &= x^2 -2x \\\\\n",
    "\\frac{df}{dx} &= 2x - 2\n",
    "\\end{aligned}$$\n",
    "\n",
    "and then evaluating it at $x$:\n",
    "\n",
    "$$\\begin{aligned}m &= f'(x=1.5) \\\\&= 2(1.5) - 2 \\\\&= 1\\end{aligned}$$ \n",
    "\n",
    "Linearizing systems of differential equations is similar. We linearize $f(\\mathbf x, \\mathbf u)$, and $h(\\mathbf x)$ by taking the partial derivatives of each to evaluate $\\mathbf F$ and $\\mathbf H$ at the point $\\mathbf x_t$ and $\\mathbf u_t$. We call the partial derivative of a matrix the [*Jacobian*](https://en.wikipedia.org/wiki/Jacobian_matrix_and_determinant). This gives us the the discrete state transition matrix and measurement model matrix:\n",
    "\n",
    "$$\n",
    "\\begin{aligned}\n",
    "\\mathbf F \n",
    "&= {\\frac{\\partial{f(\\mathbf x_t, \\mathbf u_t)}}{\\partial{\\mathbf x}}}\\biggr|_{{\\mathbf x_t},{\\mathbf u_t}} \\\\\n",
    "\\mathbf H &= \\frac{\\partial{h(\\bar{\\mathbf x}_t)}}{\\partial{\\bar{\\mathbf x}}}\\biggr|_{\\bar{\\mathbf x}_t} \n",
    "\\end{aligned}\n",
    "$$\n",
    "\n",
    "This leads to the following equations for the EKF. I put boxes around the differences from the linear filter:\n",
    "\n",
    "$$\\begin{array}{l|l}\n",
    "\\text{linear Kalman filter} & \\text{EKF} \\\\\n",
    "\\hline \n",
    "& \\boxed{\\mathbf F = {\\frac{\\partial{f(\\mathbf x_t, \\mathbf u_t)}}{\\partial{\\mathbf x}}}\\biggr|_{{\\mathbf x_t},{\\mathbf u_t}}} \\\\\n",
    "\\mathbf{\\bar x} = \\mathbf{Fx} + \\mathbf{Bu} & \\boxed{\\mathbf{\\bar x} = f(\\mathbf x, \\mathbf u)}  \\\\\n",
    "\\mathbf{\\bar P} = \\mathbf{FPF}^\\mathsf{T}+\\mathbf Q  & \\mathbf{\\bar P} = \\mathbf{FPF}^\\mathsf{T}+\\mathbf Q \\\\\n",
    "\\hline\n",
    "& \\boxed{\\mathbf H = \\frac{\\partial{h(\\bar{\\mathbf x}_t)}}{\\partial{\\bar{\\mathbf x}}}\\biggr|_{\\bar{\\mathbf x}_t}} \\\\\n",
    "\\textbf{y} = \\mathbf z - \\mathbf{H \\bar{x}} & \\textbf{y} = \\mathbf z - \\boxed{h(\\bar{x})}\\\\\n",
    "\\mathbf{K} = \\mathbf{\\bar{P}H}^\\mathsf{T} (\\mathbf{H\\bar{P}H}^\\mathsf{T} + \\mathbf R)^{-1} & \\mathbf{K} = \\mathbf{\\bar{P}H}^\\mathsf{T} (\\mathbf{H\\bar{P}H}^\\mathsf{T} + \\mathbf R)^{-1} \\\\\n",
    "\\mathbf x=\\mathbf{\\bar{x}} +\\mathbf{K\\textbf{y}} & \\mathbf x=\\mathbf{\\bar{x}} +\\mathbf{K\\textbf{y}} \\\\\n",
    "\\mathbf P= (\\mathbf{I}-\\mathbf{KH})\\mathbf{\\bar{P}} & \\mathbf P= (\\mathbf{I}-\\mathbf{KH})\\mathbf{\\bar{P}}\n",
    "\\end{array}$$\n",
    "\n",
    "We don't normally use $\\mathbf{Fx}$ to propagate the state for the EKF as the linearization causes inaccuracies. It is typical to compute $\\bar{\\mathbf x}$ using a suitable numerical integration technique such as Euler or Runge Kutta. Thus I wrote $\\mathbf{\\bar x} = f(\\mathbf x, \\mathbf u)$. For the same reasons we don't use $\\mathbf{H\\bar{x}}$ in the computation for the residual, opting for the more accurate $h(\\bar{\\mathbf x})$.\n",
    "\n",
    "I think the easiest way to understand the EKF is to start off with an example. Later you may want to come back and reread this section."
   ]
  },
  {
   "cell_type": "markdown",
   "metadata": {},
   "source": [
    "## Example: Tracking a Airplane\n",
    "\n",
    "This example tracks an airplane using ground based radar. We implemented a UKF for this problem in the last chapter. Now we will implement an EKF for the same problem so we can compare both the filter performance and the level of effort required to implement the filter.\n",
    "\n",
    "Radars work by emitting a beam of radio waves and scanning for a return bounce. Anything in the beam's path will reflects some of the signal back to the radar. By timing how long it takes for the reflected signal to get back to the radar the system can compute the *slant distance* - the straight line distance from the radar installation to the object.\n",
    "\n",
    "The relationship between the radar's slant range distance $r$ and elevation angle $\\epsilon$ with the horizontal position $x$ and altitude $y$ of the aircraft is illustrated in the figure below:"
   ]
  },
  {
   "cell_type": "code",
   "execution_count": null,
   "metadata": {
    "scrolled": true
   },
   "outputs": [],
   "source": [
    "ekf_internal.show_radar_chart()"
   ]
  },
  {
   "cell_type": "markdown",
   "metadata": {},
   "source": [
    "This gives us the equalities:\n",
    "\n",
    "$$\\begin{aligned}\n",
    "\\epsilon &= \\tan^{-1} \\frac y x\\\\\n",
    "r^2 &= x^2 + y^2\n",
    "\\end{aligned}$$ "
   ]
  },
  {
   "cell_type": "markdown",
   "metadata": {},
   "source": [
    "### Design the State Variables\n",
    "\n",
    "We want to track the position of an aircraft assuming a constant velocity and altitude, and measurements of the slant distance to the aircraft. That means we need 3 state variables - horizontal distance, horizonal velocity, and altitude:\n",
    "\n",
    "$$\\mathbf x = \\begin{bmatrix}\\mathtt{distance} \\\\\\mathtt{velocity}\\\\ \\mathtt{altitude}\\end{bmatrix}=    \\begin{bmatrix}x \\\\ \\dot x\\\\ y\\end{bmatrix}$$"
   ]
  },
  {
   "cell_type": "markdown",
   "metadata": {},
   "source": [
    "### Design the Process Model\n",
    "\n",
    "We assume a Newtonian, kinematic system for the aircraft. We've used this model in previous chapters, so by inspection you may recognize that we want\n",
    "\n",
    "$$\\mathbf F = \\left[\\begin{array}{cc|c} 1 & \\Delta t & 0\\\\\n",
    "0 & 1 & 0 \\\\ \\hline\n",
    "0 & 0 & 1\\end{array}\\right]$$\n",
    "\n",
    "I've partioned the matrix into blocks to show the upper left block is a constant velocity model for $x$, and the lower right block is a constant position model for $y$.\n",
    "\n",
    "However, let's practice finding these matrices. We model systems with a set of differential equations. We need an equation in the form \n",
    "\n",
    "$$\\dot{\\mathbf x} = \\mathbf{Ax} + \\mathbf{w}$$\n",
    "where $\\mathbf{w}$ is the system noise. \n",
    "\n",
    "The variables $x$ and $y$ are independent so we can compute them separately. The differential equations for motion in one dimension are:\n",
    "\n",
    "$$\\begin{aligned}v &= \\dot x \\\\\n",
    "a &= \\ddot{x} = 0\\end{aligned}$$\n",
    "\n",
    "Now we put the differential equations into state-space form. If this was a second or greater order differential system we would have to first reduce them to an equivalent set of first degree equations. The equations are first order, so we put them in state space matrix form as\n",
    "\n",
    "$$\\begin{aligned}\\begin{bmatrix}\\dot x \\\\ \\ddot{x}\\end{bmatrix} &= \\begin{bmatrix}0&1\\\\0&0\\end{bmatrix} \\begin{bmatrix}x \\\\ \n",
    "\\dot x\\end{bmatrix} \\\\ \\dot{\\mathbf x} &= \\mathbf{Ax}\\end{aligned}$$\n",
    "where $\\mathbf A=\\begin{bmatrix}0&1\\\\0&0\\end{bmatrix}$. \n",
    "\n",
    "Recall that $\\mathbf A$ is the *system dynamics matrix*. It describes a set of linear differential equations. From it we must compute the state transition matrix $\\mathbf F$. $\\mathbf F$ describes a discrete set of linear equations which compute $\\mathbf x$ for a discrete time step $\\Delta t$.\n",
    "\n",
    "A common way to compute $\\mathbf F$ is to use the power series expansion of the matrix exponential:\n",
    "\n",
    "$$\\mathbf F(\\Delta t) = e^{\\mathbf A\\Delta t} = \\mathbf{I} + \\mathbf A\\Delta t  + \\frac{(\\mathbf A\\Delta t)^2}{2!} + \\frac{(\\mathbf A \\Delta t)^3}{3!} + ... $$\n",
    "\n",
    "\n",
    "$\\mathbf A^2 = \\begin{bmatrix}0&0\\\\0&0\\end{bmatrix}$, so all higher powers of $\\mathbf A$ are also $\\mathbf{0}$. Thus the power series expansion is:\n",
    "\n",
    "$$\n",
    "\\begin{aligned}\n",
    "\\mathbf F &=\\mathbf{I} + \\mathbf At + \\mathbf{0} \\\\\n",
    "&= \\begin{bmatrix}1&0\\\\0&1\\end{bmatrix} + \\begin{bmatrix}0&1\\\\0&0\\end{bmatrix}\\Delta t\\\\\n",
    "\\mathbf F &= \\begin{bmatrix}1&\\Delta t\\\\0&1\\end{bmatrix}\n",
    "\\end{aligned}$$\n",
    "\n",
    "This is the same result used by the kinematic equations! This exercise was unnecessary other than to illustrate finding the state transition matrix from linear differential equations. We will conclude the chapter with an example that will require the use of this technique."
   ]
  },
  {
   "cell_type": "markdown",
   "metadata": {},
   "source": [
    "### Design the Measurement Model\n",
    "\n",
    "The measurement function takes the state estimate of the prior $\\bar{\\mathbf x}$ and turn it into a measurement of the slant range distance. We use the Pythagorean theorem to derive:\n",
    "\n",
    "$$h(\\bar{\\mathbf x}) = \\sqrt{x^2 + y^2}$$\n",
    "\n",
    "The relationship between the slant distance and the position on the ground is nonlinear due to the square root. We linearize it by evaluating its partial derivative at $\\mathbf x_t$:\n",
    "\n",
    "$$\n",
    "\\mathbf H = \\frac{\\partial{h(\\bar{\\mathbf x})}}{\\partial{\\bar{\\mathbf x}}}\\biggr|_{\\bar{\\mathbf x}_t}\n",
    "$$\n",
    "\n",
    "The partial derivative of a matrix is called a Jacobian, and takes the form \n",
    "\n",
    "$$\\frac{\\partial \\mathbf H}{\\partial \\bar{\\mathbf x}} = \n",
    "\\begin{bmatrix}\n",
    "\\frac{\\partial h_1}{\\partial x_1} & \\frac{\\partial h_1}{\\partial x_2} &\\dots \\\\\n",
    "\\frac{\\partial h_2}{\\partial x_1} & \\frac{\\partial h_2}{\\partial x_2} &\\dots \\\\\n",
    "\\vdots & \\vdots\n",
    "\\end{bmatrix}\n",
    "$$\n",
    "\n",
    "In other words, each element in the matrix is the partial derivative of the function $h$ with respect to the $x$ variables. For our problem we have\n",
    "\n",
    "$$\\mathbf H = \\begin{bmatrix}{\\partial h}/{\\partial x} & {\\partial h}/{\\partial \\dot{x}} & {\\partial h}/{\\partial y}\\end{bmatrix}$$\n",
    "\n",
    "Solving each in turn:\n",
    "\n",
    "$$\\begin{aligned}\n",
    "\\frac{\\partial h}{\\partial x} &= \\frac{\\partial}{\\partial x} \\sqrt{x^2 + y^2} \\\\\n",
    "&= \\frac{x}{\\sqrt{x^2 + y^2}}\n",
    "\\end{aligned}$$\n",
    "\n",
    "and\n",
    "\n",
    "$$\\begin{aligned}\n",
    "\\frac{\\partial h}{\\partial \\dot{x}} &=\n",
    "\\frac{\\partial}{\\partial \\dot{x}} \\sqrt{x^2 + y^2} \\\\ \n",
    "&= 0\n",
    "\\end{aligned}$$\n",
    "\n",
    "and\n",
    "\n",
    "$$\\begin{aligned}\n",
    "\\frac{\\partial h}{\\partial y} &= \\frac{\\partial}{\\partial y} \\sqrt{x^2 + y^2} \\\\ \n",
    "&= \\frac{y}{\\sqrt{x^2 + y^2}}\n",
    "\\end{aligned}$$\n",
    "\n",
    "giving us \n",
    "\n",
    "$$\\mathbf H = \n",
    "\\begin{bmatrix}\n",
    "\\frac{x}{\\sqrt{x^2 + y^2}} & \n",
    "0 &\n",
    "&\n",
    "\\frac{y}{\\sqrt{x^2 + y^2}}\n",
    "\\end{bmatrix}$$\n",
    "\n",
    "This may seem daunting, so step back and recognize that all of this math is doing something very simple. We have an equation for the slant range to the airplane which is nonlinear. The Kalman filter only works with linear equations, so we need to find a linear equation that approximates $\\mathbf H$. As we discussed above, finding the slope of a nonlinear equation at a given point is a good approximation. For the Kalman filter, the 'given point' is the state variable $\\mathbf x$ so we need to take the derivative of the slant range with respect to $\\mathbf x$. For the linear Kalman filter $\\mathbf H$ was a constant that we computed prior to running the filter. For the EKF $\\mathbf H$ is updated at each step as the evaluation point $\\bar{\\mathbf x}$ changes at each epoch.\n",
    "\n",
    "To make this more concrete, let's now write a Python function that computes the Jacobian of $h$ for this problem."
   ]
  },
  {
   "cell_type": "code",
   "execution_count": null,
   "metadata": {},
   "outputs": [],
   "source": [
    "from math import sqrt\n",
    "def HJacobian_at(x):\n",
    "    \"\"\" compute Jacobian of H matrix at x \"\"\"\n",
    "\n",
    "    horiz_dist = x[0]\n",
    "    altitude   = x[2]\n",
    "    denom = sqrt(horiz_dist**2 + altitude**2)\n",
    "    return array ([[horiz_dist/denom, 0., altitude/denom]])"
   ]
  },
  {
   "cell_type": "markdown",
   "metadata": {},
   "source": [
    "Finally, let's provide the code for $h(\\bar{\\mathbf x})$:"
   ]
  },
  {
   "cell_type": "code",
   "execution_count": null,
   "metadata": {},
   "outputs": [],
   "source": [
    "def hx(x):\n",
    "    \"\"\" compute measurement for slant range that\n",
    "    would correspond to state x.\n",
    "    \"\"\"\n",
    "    \n",
    "    return (x[0]**2 + x[2]**2) ** 0.5"
   ]
  },
  {
   "cell_type": "markdown",
   "metadata": {},
   "source": [
    "Now let's write a simulation for our radar."
   ]
  },
  {
   "cell_type": "code",
   "execution_count": null,
   "metadata": {},
   "outputs": [],
   "source": [
    "from numpy.random import randn\n",
    "import math\n",
    "\n",
    "class RadarSim(object):\n",
    "    \"\"\" Simulates the radar signal returns from an object\n",
    "    flying at a constant altityude and velocity in 1D. \n",
    "    \"\"\"\n",
    "    \n",
    "    def __init__(self, dt, pos, vel, alt):\n",
    "        self.pos = pos\n",
    "        self.vel = vel\n",
    "        self.alt = alt\n",
    "        self.dt = dt\n",
    "        \n",
    "    def get_range(self):\n",
    "        \"\"\" Returns slant range to the object. Call once \n",
    "        for each new measurement at dt time from last call.\n",
    "        \"\"\"\n",
    "        \n",
    "        # add some process noise to the system\n",
    "        self.vel = self.vel  + .1*randn()\n",
    "        self.alt = self.alt + .1*randn()\n",
    "        self.pos = self.pos + self.vel*self.dt\n",
    "    \n",
    "        # add measurement noise\n",
    "        err = self.pos * 0.05*randn()\n",
    "        slant_dist = math.sqrt(self.pos**2 + self.alt**2)\n",
    "        \n",
    "        return slant_dist + err"
   ]
  },
  {
   "cell_type": "markdown",
   "metadata": {},
   "source": [
    "### Design Process and Measurement Noise\n",
    "\n",
    "The radar measures the range to a target. We will use $\\sigma_{range}= 5$ meters for the noise. This gives us\n",
    "\n",
    "$$\\mathbf R = \\begin{bmatrix}\\sigma_{range}^2\\end{bmatrix} = \\begin{bmatrix}25\\end{bmatrix}$$\n",
    "\n",
    "\n",
    "The design of $\\mathbf Q$ requires some discussion. The state $\\mathbf x= \\begin{bmatrix}x & \\dot x & y\\end{bmatrix}^\\mathtt{T}$. The first two elements are position (down range distance) and velocity, so we can use `Q_discrete_white_noise` noise to compute the values for the upper left hand side of $\\mathbf Q$. The third element of  $\\mathbf x$ is altitude, which we are assuming is independent of the down range distance. That leads us to a block design of $\\mathbf Q$ of:\n",
    "\n",
    "$$\\mathbf Q = \\begin{bmatrix}\\mathbf Q_\\mathtt{x} & 0 \\\\ 0 & \\mathbf Q_\\mathtt{y}\\end{bmatrix}$$"
   ]
  },
  {
   "cell_type": "markdown",
   "metadata": {},
   "source": [
    "### Implementation\n",
    "\n",
    "`FilterPy` provides the class `ExtendedKalmanFilter`. It works similarly to the `KalmanFilter` class we have been using, except that it allows you to provide a function that computes the Jacobian of $\\mathbf H$ and the function $h(\\mathbf x)$. \n",
    "\n",
    "We start by importing the filter and creating it. The dimension of `x` is 3 and `z` has dimension 1.\n",
    "\n",
    "```python\n",
    "from filterpy.kalman import ExtendedKalmanFilter\n",
    "\n",
    "rk = ExtendedKalmanFilter(dim_x=3, dim_z=1)\n",
    "```\n",
    "We create the radar simulator:\n",
    "```python\n",
    "radar = RadarSim(dt, pos=0., vel=100., alt=1000.)\n",
    "```\n",
    "We will initialize the filter near the airplane's actual position:\n",
    "\n",
    "```python\n",
    "rk.x = array([radar.pos, radar.vel-10, radar.alt+100])\n",
    "```\n",
    "\n",
    "We assign the system matrix using the first term of the Taylor series expansion we computed above:\n",
    "\n",
    "```python\n",
    "dt = 0.05\n",
    "rk.F = eye(3) + array([[0, 1, 0],\n",
    "                       [0, 0, 0],\n",
    "                       [0, 0, 0]])*dt\n",
    "```\n",
    "\n",
    "After assigning reasonable values to $\\mathbf R$, $\\mathbf Q$, and $\\mathbf P$ we can run the filter with a simple loop. We pass the functions for computing the Jacobian of $\\mathbf  H$ and $h(x)$ into the `update` method.\n",
    "\n",
    "```python\n",
    "for i in range(int(20/dt)):\n",
    "    z = radar.get_range()\n",
    "    rk.update(array([z]), HJacobian_at, hx)\n",
    "    rk.predict()\n",
    "```\n",
    "\n",
    "Adding some boilerplate code to save and plot the results we get:"
   ]
  },
  {
   "cell_type": "code",
   "execution_count": null,
   "metadata": {},
   "outputs": [],
   "source": [
    "from filterpy.common import Q_discrete_white_noise\n",
    "from filterpy.kalman import ExtendedKalmanFilter\n",
    "from numpy import eye, array, asarray\n",
    "import numpy as np\n",
    "\n",
    "dt = 0.05\n",
    "rk = ExtendedKalmanFilter(dim_x=3, dim_z=1)\n",
    "radar = RadarSim(dt, pos=0., vel=100., alt=1000.)\n",
    "\n",
    "# make an imperfect starting guess\n",
    "rk.x = array([radar.pos-100, radar.vel+100, radar.alt+1000])\n",
    "\n",
    "rk.F = eye(3) + array([[0, 1, 0],\n",
    "                       [0, 0, 0],\n",
    "                       [0, 0, 0]]) * dt\n",
    "\n",
    "range_std = 5. # meters\n",
    "rk.R = np.diag([range_std**2])\n",
    "rk.Q[0:2, 0:2] = Q_discrete_white_noise(2, dt=dt, var=0.1)\n",
    "rk.Q[2,2] = 0.1\n",
    "rk.P *= 50\n",
    "\n",
    "xs, track = [], []\n",
    "for i in range(int(20/dt)):\n",
    "    z = radar.get_range()\n",
    "    track.append((radar.pos, radar.vel, radar.alt))\n",
    "    \n",
    "    rk.update(array([z]), HJacobian_at, hx)\n",
    "    xs.append(rk.x)\n",
    "    rk.predict()\n",
    "\n",
    "xs = asarray(xs)\n",
    "track = asarray(track)\n",
    "time = np.arange(0, len(xs)*dt, dt)\n",
    "ekf_internal.plot_radar(xs, track, time)"
   ]
  },
  {
   "cell_type": "markdown",
   "metadata": {},
   "source": [
    "## Using SymPy to compute Jacobians\n",
    "\n",
    "Depending on your experience with derivatives you may have found the computation of the Jacobian difficult. Even if you found it easy, a slightly more difficult problem easily leads to very difficult computations.\n",
    "\n",
    "As explained in Appendix A, we can use the SymPy package to compute the Jacobian for us."
   ]
  },
  {
   "cell_type": "code",
   "execution_count": null,
   "metadata": {
    "scrolled": true
   },
   "outputs": [],
   "source": [
    "import sympy\n",
    "sympy.init_printing(use_latex=True)\n",
    "\n",
    "x, x_vel, y = sympy.symbols('x, x_vel y')\n",
    "\n",
    "H = sympy.Matrix([sympy.sqrt(x**2 + y**2)])\n",
    "\n",
    "state = sympy.Matrix([x, x_vel, y])\n",
    "H.jacobian(state)"
   ]
  },
  {
   "cell_type": "markdown",
   "metadata": {},
   "source": [
    "This result is the same as the result we computed above, and with much less effort on our part!"
   ]
  },
  {
   "cell_type": "markdown",
   "metadata": {},
   "source": [
    "## Robot Localization\n",
    "\n",
    "It's time to try a real problem. I warn you that this section is difficult. However, most books choose simple, textbook problems with simple answers, and you are left wondering how to solve a real world problem. \n",
    "\n",
    "We will consider the problem of robot localization. We already implemented this in the **Unscented Kalman Filter** chapter, and I recommend you read it now if you haven't already.  In this scenario we have a robot that is moving through a landscape using a sensor to detect landmarks. This could be a self driving car using computer vision to identify trees, buildings, and other landmarks. It might be one of those small robots that vacuum your house, or a robot in a warehouse.\n",
    "\n",
    "The robot has 4 wheels in the same configuration used by automobiles. It maneuvers by pivoting the front wheels. This causes the robot to pivot around the rear axle while moving forward. This is nonlinear behavior which we will have to model. \n",
    "\n",
    "The robot has a sensor that measures the range and bearing to known targets in the landscape. This is nonlinear because computing a position from a range and bearing requires square roots and trigonometry. \n",
    "\n",
    "Both the process model and measurement models are nonlinear. The EKF accommodates both, so we provisionally conclude that the EKF is a viable choice for this problem."
   ]
  },
  {
   "cell_type": "markdown",
   "metadata": {},
   "source": [
    "### Robot Motion Model\n",
    "\n",
    "At a first approximation an automobile steers by pivoting the front tires while moving forward. The front of the car moves in the direction that the wheels are pointing while pivoting around the rear tires. This simple description is complicated by issues such as slippage due to friction, the differing behavior of the rubber tires at different speeds, and the need for the outside tire to travel a different radius than the inner tire. Accurately modeling steering requires a complicated set of differential equations. \n",
    "\n",
    "For lower speed robotic applications a simpler *bicycle model* has been found to perform well. This is a depiction of the model:"
   ]
  },
  {
   "cell_type": "code",
   "execution_count": null,
   "metadata": {},
   "outputs": [],
   "source": [
    "ekf_internal.plot_bicycle()"
   ]
  },
  {
   "cell_type": "markdown",
   "metadata": {},
   "source": [
    "In the **Unscented Kalman Filter** chapter we derived these equations:\n",
    "\n",
    "$$\\begin{aligned} \n",
    "\\beta &= \\frac d w \\tan(\\alpha) \\\\\n",
    "\\bar x &= x - R\\sin(\\theta) + R\\sin(\\theta + \\beta) \\\\\n",
    "\\bar y &= y + R\\cos(\\theta) - R\\cos(\\theta + \\beta) \\\\\n",
    "\\bar \\theta &= \\theta + \\beta\n",
    "\\end{aligned}\n",
    "$$\n",
    "\n",
    "where $\\theta$ is the robot's heading.\n",
    "\n",
    "You do not need to understand this model in detail if you are not interested in steering models. The important thing to recognize is that our motion model is nonlinear, and we will need to deal with that with our Kalman filter."
   ]
  },
  {
   "cell_type": "markdown",
   "metadata": {},
   "source": [
    "### Design the State Variables\n",
    "\n",
    "For our filter we will maintain the position $x,y$ and orientation $\\theta$ of the robot:\n",
    "\n",
    "$$\\mathbf x = \\begin{bmatrix}x \\\\ y \\\\ \\theta\\end{bmatrix}$$\n",
    "\n",
    "Our control input $\\mathbf u$ is the velocity $v$ and steering angle $\\alpha$:\n",
    "\n",
    "$$\\mathbf u = \\begin{bmatrix}v \\\\ \\alpha\\end{bmatrix}$$"
   ]
  },
  {
   "cell_type": "markdown",
   "metadata": {},
   "source": [
    "### Design the System Model\n",
    "\n",
    "We model our system as a nonlinear motion model plus noise.\n",
    "\n",
    "$$\\bar x = f(x, u) + \\mathcal{N}(0, Q)$$\n",
    "\n",
    "\n",
    "\n",
    "Using the motion model for a robot that we created above, we can expand this to\n",
    "\n",
    "$$\\bar{\\begin{bmatrix}x\\\\y\\\\\\theta\\end{bmatrix}} = \\begin{bmatrix}x\\\\y\\\\\\theta\\end{bmatrix} + \n",
    "\\begin{bmatrix}- R\\sin(\\theta) + R\\sin(\\theta + \\beta) \\\\\n",
    "R\\cos(\\theta) - R\\cos(\\theta + \\beta) \\\\\n",
    "\\beta\\end{bmatrix}$$\n",
    "\n",
    "We find The $\\mathbf F$ by taking the Jacobian of $f(x,u)$.\n",
    "\n",
    "$$\\mathbf F = \\frac{\\partial f(x, u)}{\\partial x} =\\begin{bmatrix}\n",
    "\\frac{\\partial f_1}{\\partial x} & \n",
    "\\frac{\\partial f_1}{\\partial y} &\n",
    "\\frac{\\partial f_1}{\\partial \\theta}\\\\\n",
    "\\frac{\\partial f_2}{\\partial x} & \n",
    "\\frac{\\partial f_2}{\\partial y} &\n",
    "\\frac{\\partial f_2}{\\partial \\theta} \\\\\n",
    "\\frac{\\partial f_3}{\\partial x} & \n",
    "\\frac{\\partial f_3}{\\partial y} &\n",
    "\\frac{\\partial f_3}{\\partial \\theta}\n",
    "\\end{bmatrix}\n",
    "$$\n",
    "\n",
    "When we calculate these we get\n",
    "\n",
    "$$\\mathbf F = \\begin{bmatrix}\n",
    "1 & 0 & -R\\cos(\\theta) + R\\cos(\\theta+\\beta) \\\\\n",
    "0 & 1 & -R\\sin(\\theta) + R\\sin(\\theta+\\beta) \\\\\n",
    "0 & 0 & 1\n",
    "\\end{bmatrix}$$\n",
    "\n",
    "We can double check our work with SymPy."
   ]
  },
  {
   "cell_type": "code",
   "execution_count": null,
   "metadata": {
    "scrolled": true
   },
   "outputs": [],
   "source": [
    "import sympy\n",
    "from sympy.abc import alpha, x, y, v, w, R, theta\n",
    "from sympy import symbols, Matrix\n",
    "sympy.init_printing(use_latex=\"mathjax\", fontsize='16pt')\n",
    "time = symbols('t')\n",
    "d = v*time\n",
    "beta = (d/w)*sympy.tan(alpha)\n",
    "r = w/sympy.tan(alpha)\n",
    "\n",
    "fxu = Matrix([[x-r*sympy.sin(theta) + r*sympy.sin(theta+beta)],\n",
    "              [y+r*sympy.cos(theta)- r*sympy.cos(theta+beta)],\n",
    "              [theta+beta]])\n",
    "F = fxu.jacobian(Matrix([x, y, theta]))\n",
    "F"
   ]
  },
  {
   "cell_type": "markdown",
   "metadata": {},
   "source": [
    "That looks a bit complicated. We can use SymPy to substitute terms:"
   ]
  },
  {
   "cell_type": "code",
   "execution_count": null,
   "metadata": {},
   "outputs": [],
   "source": [
    "# reduce common expressions\n",
    "B, R = symbols('beta, R')\n",
    "F = F.subs((d/w)*sympy.tan(alpha), B)\n",
    "F.subs(w/sympy.tan(alpha), R)"
   ]
  },
  {
   "cell_type": "markdown",
   "metadata": {},
   "source": [
    "This form  verifies that the computation of the Jacobian is correct.\n",
    "\n",
    "Now we can turn our attention to the noise. Here, the noise is in our control input, so it is in *control space*. In other words, we command a specific velocity and steering angle, but we need to convert that into errors in $x, y, \\theta$. In a real system this might vary depending on velocity, so it will need to be recomputed for every prediction. I will choose this as the noise model; for a real robot you will need to choose a model that accurately depicts the error in your system. \n",
    "\n",
    "$$\\mathbf{M} = \\begin{bmatrix}\\sigma_{vel}^2 & 0 \\\\ 0 & \\sigma_\\alpha^2\\end{bmatrix}$$\n",
    "\n",
    "If this was a linear problem we would convert from control space to state space using the by now familiar $\\mathbf{FMF}^\\mathsf T$ form. Since our motion model is nonlinear we do not try to find a closed form solution to this, but instead linearize it with a Jacobian which we will name $\\mathbf{V}$. \n",
    "\n",
    "$$\\mathbf{V} = \\frac{\\partial f(x, u)}{\\partial u} \\begin{bmatrix}\n",
    "\\frac{\\partial f_1}{\\partial v} & \\frac{\\partial f_1}{\\partial \\alpha} \\\\\n",
    "\\frac{\\partial f_2}{\\partial v} & \\frac{\\partial f_2}{\\partial \\alpha} \\\\\n",
    "\\frac{\\partial f_3}{\\partial v} & \\frac{\\partial f_3}{\\partial \\alpha}\n",
    "\\end{bmatrix}$$\n",
    "\n",
    "These partial derivatives become very difficult to work with. Let's compute them with SymPy. "
   ]
  },
  {
   "cell_type": "code",
   "execution_count": null,
   "metadata": {},
   "outputs": [],
   "source": [
    "V = fxu.jacobian(Matrix([v, alpha]))\n",
    "V = V.subs(sympy.tan(alpha)/w, 1/R) \n",
    "V = V.subs(time*v/R, B)\n",
    "V = V.subs(time*v, 'd')\n",
    "V"
   ]
  },
  {
   "cell_type": "markdown",
   "metadata": {},
   "source": [
    "This should give you an appreciation of how quickly the EKF become mathematically intractable. \n",
    "\n",
    "This gives us the final form of our prediction equations:\n",
    "\n",
    "$$\\begin{aligned}\n",
    "\\mathbf{\\bar x} &= \\mathbf x + \n",
    "\\begin{bmatrix}- R\\sin(\\theta) + R\\sin(\\theta + \\beta) \\\\\n",
    "R\\cos(\\theta) - R\\cos(\\theta + \\beta) \\\\\n",
    "\\beta\\end{bmatrix}\\\\\n",
    "\\mathbf{\\bar P} &=\\mathbf{FPF}^{\\mathsf T} + \\mathbf{VMV}^{\\mathsf T}\n",
    "\\end{aligned}$$\n",
    "\n",
    "This form of linearization is not the only way to predict $\\mathbf x$. For example, we could use a numerical integration technique such as *Runge Kutta* to compute the movement\n",
    "of the robot. This will be required if the time step is relatively large. Things are not as cut and dried with the EKF as for the Kalman filter. For a real problem you have to carefully model your system with differential equations and then determine the most appropriate way to solve that system. The correct approach depends on the accuracy you require, how nonlinear the equations are, your processor budget, and numerical stability concerns."
   ]
  },
  {
   "cell_type": "markdown",
   "metadata": {},
   "source": [
    "### Design the Measurement Model\n",
    "\n",
    "The robot's sensor provides a noisy bearing and range measurement to multiple known locations in the landscape. The measurement model must convert the state $\\begin{bmatrix}x & y&\\theta\\end{bmatrix}^\\mathsf T$ into a range and bearing to the landmark. If $\\mathbf p$ \n",
    "is the position of a landmark, the range $r$ is\n",
    "\n",
    "$$r = \\sqrt{(p_x - x)^2 + (p_y - y)^2}$$\n",
    "\n",
    "The sensor provides bearing relative to the orientation of the robot, so we must subtract the robot's orientation from the bearing to get the sensor reading, like so:\n",
    "\n",
    "$$\\phi = \\arctan(\\frac{p_y - y}{p_x - x}) - \\theta$$\n",
    "\n",
    "\n",
    "Thus our measurement model $h$ is\n",
    "\n",
    "\n",
    "$$\\begin{aligned}\n",
    "\\mathbf z& = h(\\bar{\\mathbf x}, \\mathbf p) &+ \\mathcal{N}(0, R)\\\\\n",
    "&= \\begin{bmatrix}\n",
    "\\sqrt{(p_x - x)^2 + (p_y - y)^2} \\\\\n",
    "\\arctan(\\frac{p_y - y}{p_x - x}) - \\theta \n",
    "\\end{bmatrix} &+ \\mathcal{N}(0, R)\n",
    "\\end{aligned}$$\n",
    "\n",
    "This is clearly nonlinear, so we need linearize $h$  at $\\mathbf x$ by taking its Jacobian. We compute that with SymPy below."
   ]
  },
  {
   "cell_type": "code",
   "execution_count": null,
   "metadata": {},
   "outputs": [],
   "source": [
    "px, py = symbols('p_x, p_y')\n",
    "z = Matrix([[sympy.sqrt((px-x)**2 + (py-y)**2)],\n",
    "            [sympy.atan2(py-y, px-x) - theta]])\n",
    "z.jacobian(Matrix([x, y, theta]))"
   ]
  },
  {
   "cell_type": "markdown",
   "metadata": {
    "collapsed": true
   },
   "source": [
    "Now we need to write that as a Python function. For example we might write:"
   ]
  },
  {
   "cell_type": "code",
   "execution_count": null,
   "metadata": {},
   "outputs": [],
   "source": [
    "from math import sqrt\n",
    "\n",
    "def H_of(x, landmark_pos):\n",
    "    \"\"\" compute Jacobian of H matrix where h(x) computes \n",
    "    the range and bearing to a landmark for state x \"\"\"\n",
    "\n",
    "    px = landmark_pos[0]\n",
    "    py = landmark_pos[1]\n",
    "    hyp = (px - x[0, 0])**2 + (py - x[1, 0])**2\n",
    "    dist = sqrt(hyp)\n",
    "\n",
    "    H = array(\n",
    "        [[-(px - x[0, 0]) / dist, -(py - x[1, 0]) / dist, 0],\n",
    "         [ (py - x[1, 0]) / hyp,  -(px - x[0, 0]) / hyp, -1]])\n",
    "    return H"
   ]
  },
  {
   "cell_type": "markdown",
   "metadata": {
    "collapsed": true
   },
   "source": [
    "We also need to define a function that converts the system state into a measurement."
   ]
  },
  {
   "cell_type": "code",
   "execution_count": null,
   "metadata": {},
   "outputs": [],
   "source": [
    "from math import atan2\n",
    "\n",
    "def Hx(x, landmark_pos):\n",
    "    \"\"\" takes a state variable and returns the measurement\n",
    "    that would correspond to that state.\n",
    "    \"\"\"\n",
    "    px = landmark_pos[0]\n",
    "    py = landmark_pos[1]\n",
    "    dist = sqrt((px - x[0, 0])**2 + (py - x[1, 0])**2)\n",
    "\n",
    "    Hx = array([[dist],\n",
    "                [atan2(py - x[1, 0], px - x[0, 0]) - x[2, 0]]])\n",
    "    return Hx"
   ]
  },
  {
   "cell_type": "markdown",
   "metadata": {},
   "source": [
    "### Design Measurement Noise\n",
    "\n",
    "It is reasonable to assume that the noise of the range and bearing measurements are independent, hence\n",
    "\n",
    "$$\\mathbf R=\\begin{bmatrix}\\sigma_{range}^2 & 0 \\\\ 0 & \\sigma_{bearing}^2\\end{bmatrix}$$"
   ]
  },
  {
   "cell_type": "markdown",
   "metadata": {
    "collapsed": true
   },
   "source": [
    "### Implementation\n",
    "\n",
    "We will use `FilterPy`'s `ExtendedKalmanFilter` class to implement the filter. Its `predict()` method uses the standard linear equations for the process model. Ours is nonlinear, so we will have to override `predict()` with our own implementation.  I'll want to also use this class to simulate the robot, so I'll add a method `move()` that computes the position of the robot which both `predict()` and my simulation can call.\n",
    "\n",
    "The matrices for the prediction step are quite large. While writing this code I made several errors before I finally got it working. I only found my errors by using SymPy's `evalf` function. `evalf` evaluates a SymPy `Matrix` with specific values for the variables. I decided to demonstrate this technique to you, and used `evalf` in the Kalman filter code. You'll need to understand a couple of points.\n",
    "\n",
    "First, `evalf` uses a dictionary to specify the values. For example, if your matrix contains an `x` and `y`, you can write\n",
    "\n",
    "```python\n",
    "    M.evalf(subs={x:3, y:17})\n",
    "```\n",
    "    \n",
    "to evaluate the matrix for `x=3` and `y=17`. \n",
    "\n",
    "Second, `evalf` returns a `sympy.Matrix` object. Use `numpy.array(M).astype(float)` to convert it to a NumPy array. `numpy.array(M)` creates an array of  type `object`, which is not what you want.\n",
    "\n",
    "Here is the code for the EKF:"
   ]
  },
  {
   "cell_type": "code",
   "execution_count": null,
   "metadata": {},
   "outputs": [],
   "source": [
    "from filterpy.kalman import ExtendedKalmanFilter as EKF\n",
    "from numpy import dot, array, sqrt\n",
    "class RobotEKF(EKF):\n",
    "    def __init__(self, dt, wheelbase, std_vel, std_steer):\n",
    "        EKF.__init__(self, 3, 2, 2)\n",
    "        self.dt = dt\n",
    "        self.wheelbase = wheelbase\n",
    "        self.std_vel = std_vel\n",
    "        self.std_steer = std_steer\n",
    "\n",
    "        a, x, y, v, w, theta, time = symbols(\n",
    "            'a, x, y, v, w, theta, t')\n",
    "        d = v*time\n",
    "        beta = (d/w)*sympy.tan(a)\n",
    "        r = w/sympy.tan(a)\n",
    "    \n",
    "        self.fxu = Matrix(\n",
    "            [[x-r*sympy.sin(theta)+r*sympy.sin(theta+beta)],\n",
    "             [y+r*sympy.cos(theta)-r*sympy.cos(theta+beta)],\n",
    "             [theta+beta]])\n",
    "\n",
    "        self.F_j = self.fxu.jacobian(Matrix([x, y, theta]))\n",
    "        self.V_j = self.fxu.jacobian(Matrix([v, a]))\n",
    "\n",
    "        # save dictionary and it's variables for later use\n",
    "        self.subs = {x: 0, y: 0, v:0, a:0, \n",
    "                     time:dt, w:wheelbase, theta:0}\n",
    "        self.x_x, self.x_y, = x, y \n",
    "        self.v, self.a, self.theta = v, a, theta\n",
    "\n",
    "    def predict(self, u=0):\n",
    "        self.x = self.move(self.x, u, self.dt)\n",
    "\n",
    "        self.subs[self.theta] = self.x[2, 0]\n",
    "        self.subs[self.v] = u[0]\n",
    "        self.subs[self.a] = u[1]\n",
    "\n",
    "        F = array(self.F_j.evalf(subs=self.subs)).astype(float)\n",
    "        V = array(self.V_j.evalf(subs=self.subs)).astype(float)\n",
    "\n",
    "        # covariance of motion noise in control space\n",
    "        M = array([[self.std_vel*u[0]**2, 0], \n",
    "                   [0, self.std_steer**2]])\n",
    "\n",
    "        self.P = dot(F, self.P).dot(F.T) + dot(V, M).dot(V.T)\n",
    "\n",
    "    def move(self, x, u, dt):\n",
    "        hdg = x[2, 0]\n",
    "        vel = u[0]\n",
    "        steering_angle = u[1]\n",
    "        dist = vel * dt\n",
    "\n",
    "        if abs(steering_angle) > 0.001: # is robot turning?\n",
    "            beta = (dist / self.wheelbase) * tan(steering_angle)\n",
    "            r = self.wheelbase / tan(steering_angle) # radius\n",
    "\n",
    "            dx = np.array([[-r*sin(hdg) + r*sin(hdg + beta)], \n",
    "                           [r*cos(hdg) - r*cos(hdg + beta)], \n",
    "                           [beta]])\n",
    "        else: # moving in straight line\n",
    "            dx = np.array([[dist*cos(hdg)], \n",
    "                           [dist*sin(hdg)], \n",
    "                           [0]])\n",
    "        return x + dx"
   ]
  },
  {
   "cell_type": "markdown",
   "metadata": {},
   "source": [
    "Now we have another issue to handle. The residual is notionally computed as $y = z - h(x)$ but this will not work because our measurement contains an angle in it. Suppose z has a bearing of $1^\\circ$ and $h(x)$ has a bearing of $359^\\circ$. Naively subtracting them would yield a angular difference of $-358^\\circ$, whereas the correct value is $2^\\circ$. We have to write code to correctly compute the bearing residual."
   ]
  },
  {
   "cell_type": "code",
   "execution_count": null,
   "metadata": {},
   "outputs": [],
   "source": [
    "def residual(a, b):\n",
    "    \"\"\" compute residual (a-b) between measurements containing \n",
    "    [range, bearing]. Bearing is normalized to [-pi, pi)\"\"\"\n",
    "    y = a - b\n",
    "    y[1] = y[1] % (2 * np.pi)    # force in range [0, 2 pi)\n",
    "    if y[1] > np.pi:             # move to [-pi, pi)\n",
    "        y[1] -= 2 * np.pi\n",
    "    return y"
   ]
  },
  {
   "cell_type": "markdown",
   "metadata": {},
   "source": [
    "The rest of the code runs the simulation and plots the results, and shouldn't need too much comment by now. I create a variable `landmarks` that contains the landmark coordinates. I update the simulated robot position 10 times a second, but run the EKF only once per second. This is for two reasons. First, we are not using Runge Kutta to integrate the differental equations of motion, so a narrow time step allows our simulation to be more accurate. Second, it is fairly normal in embedded systems to have limited processing speed. This forces you to run your Kalman filter only as frequently as absolutely needed."
   ]
  },
  {
   "cell_type": "code",
   "execution_count": null,
   "metadata": {
    "scrolled": true
   },
   "outputs": [],
   "source": [
    "from filterpy.stats import plot_covariance_ellipse\n",
    "from math import sqrt, tan, cos, sin, atan2\n",
    "import matplotlib.pyplot as plt\n",
    "\n",
    "dt = 1.0\n",
    "\n",
    "def z_landmark(lmark, sim_pos, std_rng, std_brg):\n",
    "    x, y = sim_pos[0, 0], sim_pos[1, 0]\n",
    "    d = np.sqrt((lmark[0] - x)**2 + (lmark[1] - y)**2)  \n",
    "    a = atan2(lmark[1] - y, lmark[0] - x) - sim_pos[2, 0]\n",
    "    z = np.array([[d + randn()*std_rng],\n",
    "                  [a + randn()*std_brg]])\n",
    "    return z\n",
    "\n",
    "def ekf_update(ekf, z, landmark):\n",
    "    ekf.update(z, HJacobian=H_of, Hx=Hx, \n",
    "               residual=residual,\n",
    "               args=(landmark), hx_args=(landmark))\n",
    "    \n",
    "                \n",
    "def run_localization(landmarks, std_vel, std_steer, \n",
    "                     std_range, std_bearing,\n",
    "                     step=10, ellipse_step=20, ylim=None):\n",
    "    ekf = RobotEKF(dt, wheelbase=0.5, std_vel=std_vel, \n",
    "                   std_steer=std_steer)\n",
    "    ekf.x = array([[2, 6, .3]]).T # x, y, steer angle\n",
    "    ekf.P = np.diag([.1, .1, .1])\n",
    "    ekf.R = np.diag([std_range**2, std_bearing**2])\n",
    "\n",
    "    sim_pos = ekf.x.copy() # simulated position\n",
    "    # steering command (vel, steering angle radians)\n",
    "    u = array([1.1, .01]) \n",
    "\n",
    "    plt.figure()\n",
    "    plt.scatter(landmarks[:, 0], landmarks[:, 1],\n",
    "                marker='s', s=60)\n",
    "    \n",
    "    track = []\n",
    "    for i in range(200):\n",
    "        sim_pos = ekf.move(sim_pos, u, dt/10.) # simulate robot\n",
    "        track.append(sim_pos)\n",
    "\n",
    "        if i % step == 0:\n",
    "            ekf.predict(u=u)\n",
    "\n",
    "            if i % ellipse_step == 0:\n",
    "                plot_covariance_ellipse(\n",
    "                    (ekf.x[0,0], ekf.x[1,0]), ekf.P[0:2, 0:2], \n",
    "                     std=6, facecolor='k', alpha=0.3)\n",
    "\n",
    "            x, y = sim_pos[0, 0], sim_pos[1, 0]\n",
    "            for lmark in landmarks:\n",
    "                z = z_landmark(lmark, sim_pos,\n",
    "                               std_range, std_bearing)\n",
    "                ekf_update(ekf, z, lmark)\n",
    "\n",
    "            if i % ellipse_step == 0:\n",
    "                plot_covariance_ellipse(\n",
    "                    (ekf.x[0,0], ekf.x[1,0]), ekf.P[0:2, 0:2],\n",
    "                    std=6, facecolor='g', alpha=0.8)\n",
    "    track = np.array(track)\n",
    "    plt.plot(track[:, 0], track[:,1], color='k', lw=2)\n",
    "    plt.axis('equal')\n",
    "    plt.title(\"EKF Robot localization\")\n",
    "    if ylim is not None: plt.ylim(*ylim)\n",
    "    plt.show()\n",
    "    return ekf"
   ]
  },
  {
   "cell_type": "code",
   "execution_count": null,
   "metadata": {
    "scrolled": false
   },
   "outputs": [],
   "source": [
    "landmarks = array([[5, 10], [10, 5], [15, 15]])\n",
    "\n",
    "ekf = run_localization(\n",
    "    landmarks, std_vel=0.1, std_steer=np.radians(1),\n",
    "    std_range=0.3, std_bearing=0.1)\n",
    "print('Final P:', ekf.P.diagonal())"
   ]
  },
  {
   "cell_type": "markdown",
   "metadata": {},
   "source": [
    "I have plotted the landmarks as solid squares. The path of the robot is drawn with a black line. The covariance ellipses for the predict step are light gray, and the covariances of the update are shown in green. To make them visible at this scale I have set the ellipse boundary at 6$\\sigma$.\n",
    "\n",
    "We can see that there is a lot of uncertainty added by our motion model, and that most of the error in in the direction of motion. We determine that from the shape of the blue ellipses. After a few steps we can see that the filter incorporates the landmark measurements and the errors improve.\n",
    "\n",
    "I used the same initial conditions and landmark locations in the UKF chapter. The UKF achieves much better accuracy in terms of the error ellipse. Both perform roughly as well as far as their estimate for $\\mathbf x$ is concerned. \n",
    "\n",
    "Now let's add another landmark."
   ]
  },
  {
   "cell_type": "code",
   "execution_count": null,
   "metadata": {},
   "outputs": [],
   "source": [
    "landmarks = array([[5, 10], [10, 5], [15, 15], [20, 5]])\n",
    "\n",
    "ekf = run_localization(\n",
    "    landmarks, std_vel=0.1, std_steer=np.radians(1),\n",
    "    std_range=0.3, std_bearing=0.1)\n",
    "plt.show()\n",
    "print('Final P:', ekf.P.diagonal())"
   ]
  },
  {
   "cell_type": "markdown",
   "metadata": {},
   "source": [
    "The uncertainly in the estimates near the end of the track are smaller.  We can see the effect that multiple landmarks have on our uncertainty by only using the first two landmarks."
   ]
  },
  {
   "cell_type": "code",
   "execution_count": null,
   "metadata": {
    "scrolled": false
   },
   "outputs": [],
   "source": [
    "ekf = run_localization(\n",
    "    landmarks[0:2], std_vel=1.e-10, std_steer=1.e-10,\n",
    "    std_range=1.4, std_bearing=.05)\n",
    "print('Final P:', ekf.P.diagonal())"
   ]
  },
  {
   "cell_type": "markdown",
   "metadata": {},
   "source": [
    "The estimate quickly diverges from the robot's path after passing the landmarks. The covariance also grows quickly. Let's see what happens with only one landmark:"
   ]
  },
  {
   "cell_type": "code",
   "execution_count": null,
   "metadata": {
    "scrolled": false
   },
   "outputs": [],
   "source": [
    "ekf = run_localization(\n",
    "    landmarks[0:1], std_vel=1.e-10, std_steer=1.e-10,\n",
    "    std_range=1.4, std_bearing=.05)\n",
    "print('Final P:', ekf.P.diagonal())"
   ]
  },
  {
   "cell_type": "markdown",
   "metadata": {},
   "source": [
    "As you probably suspected, one landmark produces a very bad result. Conversely, a large number of landmarks allows us to make very accurate estimates."
   ]
  },
  {
   "cell_type": "code",
   "execution_count": null,
   "metadata": {
    "scrolled": false
   },
   "outputs": [],
   "source": [
    "landmarks = array([[5, 10], [10,  5], [15, 15], [20,  5], [15, 10], \n",
    "                   [10,14], [23, 14], [25, 20], [10, 20]])\n",
    "\n",
    "ekf = run_localization(\n",
    "    landmarks, std_vel=0.1, std_steer=np.radians(1),\n",
    "    std_range=0.3, std_bearing=0.1, ylim=(0, 21))\n",
    "print('Final P:', ekf.P.diagonal())"
   ]
  },
  {
   "cell_type": "markdown",
   "metadata": {},
   "source": [
    "### Discussion\n",
    "\n",
    "I said that this was a real problem, and in some ways it is. I've seen alternative presentations that used robot motion models that led to simpler Jacobians. On the other hand, my model of the movement is also simplistic in several ways. First, it uses a bicycle model. A real car has two sets of tires, and each travels on a different radius. The wheels do not grip the surface perfectly. I also assumed that the robot responds instantaneously to the control input. Sebastian Thrun writes in *Probabilistic Robots* that this simplified model is justified because the filters perform well when used to track real vehicles. The lesson here is that while you have to have a reasonably accurate nonlinear model, it does not need to be perfect to operate well. As a designer you will need to balance the fidelity of your model with the difficulty of the math and the CPU time required to perform the linear algebra. \n",
    "\n",
    "Another way in which this problem was simplistic is that we assumed that we knew the correspondance between the landmarks and measurements. But suppose we are using radar - how would we know that a specific signal return corresponded to a specific building in the local scene? This question hints at SLAM algorithms - simultaneous localization and mapping. SLAM is not the point of this book, so I will not elaborate on this topic. "
   ]
  },
  {
   "cell_type": "markdown",
   "metadata": {},
   "source": [
    "## UKF vs EKF\n",
    "\n",
    "\n",
    "In the last chapter I used the UKF to solve this problem. The difference in implementation should be very clear. Computing the Jacobians for the state and measurement models was not trivial despite a rudimentary motion model. A different problem could result in a Jacobian which is difficult or impossible to derive analytically. In contrast, the UKF only requires you to provide a function that computes the system motion model and another for the measurement model. \n",
    "\n",
    "There are many cases where the Jacobian cannot be found analytically. The details are beyond the scope of this book, but you will have to use numerical methods to compute the Jacobian. That undertaking is not trivial, and you will spend a significant portion of a master's degree at a STEM school learning techniques to handle such situations. Even then you'll likely only be able to solve problems related to your field - an aeronautical engineer learns a lot about Navier Stokes equations, but not much about modelling chemical reaction rates. \n",
    "\n",
    "So, UKFs are easy. Are they accurate? In practice they often perform better than the EKF. You can find plenty of research papers that prove that the UKF outperforms the EKF in various problem domains. It's not hard to understand why this would be true. The EKF works by linearizing the system model and measurement model at a single point, and the UKF uses $2n+1$ points.\n",
    "\n",
    "Let's look at a specific example. Take $f(x) = x^3$ and pass a Gaussian distribution through it. I will compute an accurate answer using a monte carlo simulation. I generate 50,000 points randomly distributed according to the Gaussian, pass each through $f(x)$, then compute the mean and variance of the result. \n",
    "\n",
    "The EKF linearizes the function by taking the derivative to find the slope at the evaluation point $x$. This slope becomes the linear function that we use to transform the Gaussian. Here is a plot of that."
   ]
  },
  {
   "cell_type": "code",
   "execution_count": null,
   "metadata": {},
   "outputs": [],
   "source": [
    "import kf_book.nonlinear_plots as nonlinear_plots\n",
    "nonlinear_plots.plot_ekf_vs_mc()"
   ]
  },
  {
   "cell_type": "markdown",
   "metadata": {},
   "source": [
    "The EKF computation is rather inaccurate. In contrast, here is the performance of the UKF:"
   ]
  },
  {
   "cell_type": "code",
   "execution_count": null,
   "metadata": {},
   "outputs": [],
   "source": [
    "nonlinear_plots.plot_ukf_vs_mc(alpha=0.001, beta=3., kappa=1.)"
   ]
  },
  {
   "cell_type": "markdown",
   "metadata": {},
   "source": [
    "Here we can see that the computation of the UKF's mean is accurate to 2 decimal places. The standard deviation is slightly off, but you can also fine tune how the UKF computes the distribution by using the $\\alpha$, $\\beta$, and $\\gamma$ parameters for generating the sigma points. Here I used $\\alpha=0.001$, $\\beta=3$, and $\\gamma=1$. Feel free to modify them to see the result. You should be able to get better results than I did. However, avoid over-tuning the UKF for a specific test. It may perform better for your test case, but worse in general."
   ]
  }
 ],
 "metadata": {
  "anaconda-cloud": {},
  "kernelspec": {
   "display_name": "Python 3",
   "language": "python",
   "name": "python3"
  },
  "language_info": {
   "codemirror_mode": {
    "name": "ipython",
    "version": 3
   },
   "file_extension": ".py",
   "mimetype": "text/x-python",
   "name": "python",
   "nbconvert_exporter": "python",
   "pygments_lexer": "ipython3",
   "version": "3.7.1"
  }
 },
 "nbformat": 4,
 "nbformat_minor": 1
}
